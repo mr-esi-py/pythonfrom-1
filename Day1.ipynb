{
  "nbformat": 4,
  "nbformat_minor": 0,
  "metadata": {
    "colab": {
      "name": "Day1.ipynb",
      "provenance": [],
      "collapsed_sections": []
    },
    "kernelspec": {
      "name": "python3",
      "display_name": "Python 3"
    },
    "language_info": {
      "name": "python"
    }
  },
  "cells": [
    {
      "cell_type": "markdown",
      "source": [
        "<div dir=rtl>\n",
        "<font size = \"6px\">\n",
        "روز اول رو با تمرین بخش های زیر شروع میکنیم: 😍\n",
        "</font>\n",
        "</div>\n",
        "<div dir=rtl>\n",
        "*  اول میریم سراغ دستور print \n",
        "</div>\n",
        "<div dir=rtl>\n",
        "*  پرینت چند چیز مختلف با هم رو یاد میگیریم\n",
        "</div>\n",
        "<div dir=rtl>\n",
        "*  با آرگومان end تو دستور پرینت آشنا میشیم\n",
        "</div>\n",
        "<div dir=rtl>    \n",
        "*  با آرگومان sep تو دستور پرینت آشنا میشیم\n",
        "</div>\n",
        "\n",
        "\n",
        "<div dir=rtl>\n",
        "<font size = \"6px\" color=\"#333\">\n",
        "<b>\n",
        "این سه نکته رو هم در نظر بگیر: 📓 📔 📔\n",
        "</b>\n",
        "</div>\n",
        "\n",
        "<div dir=rtl>\n",
        "<font size = \"5px\" color=\"#E60023\">\n",
        "<b>\n",
        "\n",
        "* در آخر که همه چم و خم دستور print رو یاد گرفتی، یه تمرین توی دنیای واقعی رو باید حل کنی که یادگیریت 100% شه!!!!!\n",
        "</b>\n",
        "</font>\n",
        "</div>\n",
        "\n",
        "<div dir=rtl>\n",
        "<font size = \"5px\"  color=\"#00A064\">\n",
        "\n",
        "<b>\n",
        "\n",
        "* البته نگران نباش، قبل هر تمرین توضیحات کامل داده میشه، توی متن کد هم بهت کمک میکنیم، علاوه بر همه اینها هرجا لازم بوده یه سلول راهنمایی برات گذاشتیم\n",
        "</b>\n",
        "</font>\n",
        "</div>\n",
        "<div dir=rtl>\n",
        "<font size = \"5px\"  color=\"#5E9FF6\">\n",
        "\n",
        "<b>\n",
        "\n",
        "* یادت نره که اولین سلول کد و آخرین سلول کد رو حتما اجرا کنی که جوابهاتو ذخیره کنیم.\n",
        "</b>\n",
        "</font>\n",
        "</div>"
      ],
      "metadata": {
        "id": "aCOgG6458DPR"
      }
    },
    {
      "cell_type": "markdown",
      "source": [
        "# بریم سراغ اولیش"
      ],
      "metadata": {
        "id": "6Kyj0ZD3OhqM"
      }
    },
    {
      "cell_type": "markdown",
      "source": [
        "## این تمرینمون چهار قسمته"
      ],
      "metadata": {
        "id": "Je2TvheIPJBz"
      }
    },
    {
      "cell_type": "markdown",
      "source": [
        "\n",
        "<div dir = \"rtl\">\n",
        "<font size = \"6px\" color=\"#D4088C\" face=\"bold\">\n",
        "<b>\n",
        "باید جاهای خالی ای که با ***** مشخص شدن رو کامل کنیم 🖊 🖊 🖊\n",
        "</b>\n",
        "</font>\n",
        "</div>"
      ],
      "metadata": {
        "id": "comp5pHEu4iy"
      }
    },
    {
      "cell_type": "markdown",
      "source": [
        "<div>\n",
        "</div>"
      ],
      "metadata": {
        "id": "BctYcfNnFZjk"
      }
    },
    {
      "cell_type": "markdown",
      "source": [
        "### 1 👇\n",
        "\n",
        "\"\"\"\n",
        "\n",
        "Expected Output:\n",
        "\n",
        "<font color=\"00A064\" size=\"4px\">\n",
        "Hello From my First Python Code\n",
        "</font>\n",
        "\n",
        "\"\"\""
      ],
      "metadata": {
        "id": "p4fUl1dzR5Bf"
      }
    },
    {
      "cell_type": "code",
      "source": [
        "# fill the ***** so that the output prints \"Hello From my First Python Code \"\n",
        "*****(\"Hello From my First Python Code \")"
      ],
      "metadata": {
        "id": "3_Zc59Mgu3ya"
      },
      "execution_count": null,
      "outputs": []
    },
    {
      "cell_type": "markdown",
      "source": [
        "<div>\n",
        "</div>"
      ],
      "metadata": {
        "id": "ZUbrnT3JFhyK"
      }
    },
    {
      "cell_type": "markdown",
      "source": [
        "<div>\n",
        "</div>"
      ],
      "metadata": {
        "id": "_ck93WXOFfhd"
      }
    },
    {
      "cell_type": "markdown",
      "source": [
        "### 2 👇\n",
        "\n",
        "\"\"\"\n",
        "\n",
        "Expected Output:\n",
        "\n",
        "<font color=\"00A064\" size=\"4px\">\n",
        "MrEsi Python from -1 course, 2022\n",
        "</font>\n",
        "\n",
        "\"\"\""
      ],
      "metadata": {
        "id": "I3vI9kA8cSPk"
      }
    },
    {
      "cell_type": "code",
      "source": [
        "# printing multiple stuff in one line\n",
        "# put the three last words of the above sentence down here\n",
        "print(\"MrEsi Python from\", *****, *****, *****)"
      ],
      "metadata": {
        "id": "NRlUQQhXcboa"
      },
      "execution_count": null,
      "outputs": []
    },
    {
      "cell_type": "markdown",
      "source": [
        "<div>\n",
        "</div>"
      ],
      "metadata": {
        "id": "JAwohGC0FjTe"
      }
    },
    {
      "cell_type": "markdown",
      "source": [
        "<div>\n",
        "</div>"
      ],
      "metadata": {
        "id": "d1Ym4tuOFmNa"
      }
    },
    {
      "cell_type": "markdown",
      "source": [
        "### 3 👇\n",
        "\n",
        "\"\"\"\n",
        "\n",
        "Expected Output:\n",
        "\n",
        "<font color=\"00A064\" size=\"4px\">\n",
        "Python-Is-Awesome\n",
        "</font>\n",
        "\n",
        "\"\"\""
      ],
      "metadata": {
        "id": "j7t-1qV1TMzK"
      }
    },
    {
      "cell_type": "code",
      "source": [
        "# fill the ***** so that the output prints \"Python-Is-Awesome\"\n",
        "print(\"Python\", \"Is\", \"Awesome\", sep=\"*****\")"
      ],
      "metadata": {
        "id": "9k-NyLv1TZ5Z"
      },
      "execution_count": null,
      "outputs": []
    },
    {
      "cell_type": "markdown",
      "source": [
        "<div>\n",
        "</div>"
      ],
      "metadata": {
        "id": "eyvVTr9fFnnB"
      }
    },
    {
      "cell_type": "markdown",
      "source": [
        "<div>\n",
        "</div>"
      ],
      "metadata": {
        "id": "fbeUxtrzFobe"
      }
    },
    {
      "cell_type": "markdown",
      "source": [
        "### 4 👇\n",
        "\n",
        "\"\"\"\n",
        "\n",
        "Expected Output:\n",
        "\n",
        "<font color=\"00A064\" size=\"4px\">\n",
        "I am\n",
        "</font>\n",
        "<font color=\"00A064\" size=\"4px\">\n",
        "\n",
        "Learning\n",
        "</font>\n",
        "\n",
        "<font color=\"00A064\" size=\"4px\">\n",
        "\n",
        "Python\n",
        "</font>\n",
        "\n",
        "<font color=\"00A064\" size=\"4px\">\n",
        "\n",
        "With MrEsi\n",
        "</font>\n",
        "\n",
        "\"\"\""
      ],
      "metadata": {
        "id": "1rM2pAwUUXGz"
      }
    },
    {
      "cell_type": "code",
      "source": [
        "# fill the blanks with \"end\" argument\n",
        "print(\"I\", *****)\n",
        "print(\"am\", *****)\n",
        "print(\"Learning\", *****)\n",
        "print(\"Python\", *****)\n",
        "print(\"With\", *****)\n",
        "print(\"MrEsi\")"
      ],
      "metadata": {
        "id": "l4eNtSY6U9_m"
      },
      "execution_count": null,
      "outputs": []
    },
    {
      "cell_type": "markdown",
      "source": [
        "#### <font size = \"5px\" color=\"#E60023\"><b>راهنمایی</b></font> <font size=\"7px\"> 🧠 </font>"
      ],
      "metadata": {
        "id": "TMeYxQHdXOSd"
      }
    },
    {
      "cell_type": "markdown",
      "source": [
        "fill the blank with end=\" \" or end=\"\\n\""
      ],
      "metadata": {
        "id": "VqxN8exlX3He"
      }
    },
    {
      "cell_type": "markdown",
      "source": [
        "<div>\n",
        "</div>"
      ],
      "metadata": {
        "id": "1IS5--iDFuT5"
      }
    },
    {
      "cell_type": "markdown",
      "source": [
        "<div>\n",
        "</div>"
      ],
      "metadata": {
        "id": "_RSz4APXFvsE"
      }
    },
    {
      "cell_type": "markdown",
      "source": [
        "<div>\n",
        "</div>"
      ],
      "metadata": {
        "id": "7cDB3hgbFvIX"
      }
    },
    {
      "cell_type": "markdown",
      "source": [
        "# خب بریم سراغ دومیش"
      ],
      "metadata": {
        "id": "IhijnBD1X0L9"
      }
    },
    {
      "cell_type": "markdown",
      "source": [
        "\n",
        "<div dir = \"rtl\">\n",
        "<font size = \"5px\" color=\"#E60023\">\n",
        "<b>\n",
        "تو این تمرین کد خواسته شده رو کامل خودمون باید بزنیم\n",
        "\n",
        "</b>\n",
        "</font>\n",
        "</div>"
      ],
      "metadata": {
        "id": "kPeFXqPZO4us"
      }
    },
    {
      "cell_type": "markdown",
      "source": [
        "<div>\n",
        "</div>"
      ],
      "metadata": {
        "id": "JNQFADB-F1IC"
      }
    },
    {
      "cell_type": "markdown",
      "source": [
        "#### <font size = \"5px\" color=\"#E60023\"><b>راهنمایی</b></font> <font size=\"7px\"> 🧠 </font>"
      ],
      "metadata": {
        "id": "dv2I1W1YsHaj"
      }
    },
    {
      "cell_type": "markdown",
      "source": [
        "\n",
        "<div dir = \"rtl\">\n",
        "<font size = \"5px\" color=\"#E60023\">\n",
        "<b>\n",
        "تو این تمرینا بین دو بخشی که با TODO و END TODO مشخص شدن کدتونو بنویسید\n",
        "</b>\n",
        "</font>\n",
        "\n",
        "</div>\n",
        "\n",
        "<div dir = \"rtl\">\n",
        "<font size = \"5px\" color=\"#00A064\">\n",
        "<b>\n",
        "\n",
        "هر تعداد خط کد بین این دو باشه یعنی تعداد خطهایی که اون تمرین نیاز داره به همون اندازه ست\n",
        "</b>\n",
        "</font>\n",
        "\n",
        "</div>"
      ],
      "metadata": {
        "id": "9Fbv_j45sLi9"
      }
    },
    {
      "cell_type": "markdown",
      "source": [
        "<div>\n",
        "</div>"
      ],
      "metadata": {
        "id": "_Hy5bldUF15h"
      }
    },
    {
      "cell_type": "markdown",
      "source": [
        "<div>\n",
        "</div>"
      ],
      "metadata": {
        "id": "UGX_JjkFF2qx"
      }
    },
    {
      "cell_type": "markdown",
      "source": [
        "### 1 👇\n",
        "\n",
        "\"\"\"\n",
        "\n",
        "Expected Output:\n",
        "\n",
        "<font color=\"00A064\" size=\"4px\">\n",
        "Hello From your_name\n",
        "</font>\n",
        "\n",
        "\"\"\""
      ],
      "metadata": {
        "id": "kqnkcXR6ripK"
      }
    },
    {
      "cell_type": "code",
      "source": [
        "# for example if your name is Ehsan the output should be \"Hello From Ehsan\"\n",
        "# TODO\n",
        "\n",
        "# End TODO"
      ],
      "metadata": {
        "id": "dlDZgPiENTS9"
      },
      "execution_count": null,
      "outputs": []
    },
    {
      "cell_type": "markdown",
      "source": [
        "<div>\n",
        "</div>"
      ],
      "metadata": {
        "id": "0T8tWzKPGBR9"
      }
    },
    {
      "cell_type": "markdown",
      "source": [
        "<div>\n",
        "</div>"
      ],
      "metadata": {
        "id": "1J9E3MuvGB5q"
      }
    },
    {
      "cell_type": "markdown",
      "source": [
        "### 2 👇\n",
        "\n",
        "\"\"\"\n",
        "\n",
        "Expected Output:\n",
        "\n",
        "<font color=\"00A064\" size=\"4px\">\n",
        "This is my first step to learn Python 3 at year of 2022\n",
        "</font>\n",
        "\n",
        "\"\"\""
      ],
      "metadata": {
        "id": "QKRBCNjHtAur"
      }
    },
    {
      "cell_type": "markdown",
      "source": [
        "\n",
        "<div dir = \"rtl\">\n",
        "<font size = \"5px\">\n",
        "<b>\n",
        "تو این تمرین سعی کنید از print چند چیز مختلف در یک خط استفاده کنید، مثلا \n",
        "\n",
        "print(1, 2, 3, \"MrEsi\")\n",
        "</b>\n",
        "</font>\n",
        "</div>"
      ],
      "metadata": {
        "id": "6b5YDp2NtYBi"
      }
    },
    {
      "cell_type": "code",
      "source": [
        "# use multiple stuff printing in one line of code\n",
        "# TODO\n",
        "\n",
        "# END TODO"
      ],
      "metadata": {
        "id": "FKtIFYhMtUI3"
      },
      "execution_count": null,
      "outputs": []
    },
    {
      "cell_type": "markdown",
      "source": [
        "<div>\n",
        "</div>"
      ],
      "metadata": {
        "id": "UBftvnHcGDQ1"
      }
    },
    {
      "cell_type": "markdown",
      "source": [
        "<div>\n",
        "</div>"
      ],
      "metadata": {
        "id": "ZzznHTX4GEBh"
      }
    },
    {
      "cell_type": "markdown",
      "source": [
        "### 3 👇\n",
        "\n",
        "\"\"\"\n",
        "\n",
        "Expected Output:\n",
        "\n",
        "<font color=\"00A064\" size=\"4px\">\n",
        "7-3-2022, 1401-4-12\n",
        "</font>\n",
        "\n",
        "\"\"\""
      ],
      "metadata": {
        "id": "h4ZRfmUfuDCw"
      }
    },
    {
      "cell_type": "markdown",
      "source": [
        "\n",
        "<div dir = \"rtl\">\n",
        "<font size = \"5px\">\n",
        "<b>\n",
        "این تمرینو ترکیبی از آرگومان های sep و end تو دستور print هستش\n",
        "</b>\n",
        "</font>\n",
        "</div>"
      ],
      "metadata": {
        "id": "lHkAzl6buDC3"
      }
    },
    {
      "cell_type": "code",
      "source": [
        "# use sep and end arguments to print this\n",
        "# TODO\n",
        "\n",
        "\n",
        "# END TODO"
      ],
      "metadata": {
        "id": "6wk6wJ-HuDC6"
      },
      "execution_count": null,
      "outputs": []
    },
    {
      "cell_type": "markdown",
      "source": [
        "<div>\n",
        "</div>"
      ],
      "metadata": {
        "id": "eQZPvmO9GF0j"
      }
    },
    {
      "cell_type": "markdown",
      "source": [
        "<div>\n",
        "</div>"
      ],
      "metadata": {
        "id": "Ln75CzsOGFGC"
      }
    },
    {
      "cell_type": "markdown",
      "source": [
        "### 4 👇\n",
        "\n",
        "\"\"\"\n",
        "\n",
        "Expected Output:\n",
        "\n",
        "<font color=\"00A064\" size=\"4px\">\n",
        "*\n",
        "</font>\n",
        "\n",
        "<font color=\"00A064\" size=\"4px\">\n",
        "\n",
        "\\* *\n",
        "</font>\n",
        "\n",
        "<font color=\"00A064\" size=\"4px\">\n",
        "\n",
        "\\* * *\n",
        "</font>\n",
        "\n",
        "<font color=\"00A064\" size=\"4px\">\n",
        "\n",
        "\\* * * *\n",
        "</font>\n",
        "\n",
        "\"\"\""
      ],
      "metadata": {
        "id": "Wex6Gty4vCaS"
      }
    },
    {
      "cell_type": "markdown",
      "source": [
        "\n",
        "<div dir = \"rtl\">\n",
        "<font size = \"5px\">\n",
        "<b>\n",
        "این یه مثال تاریخیه که هرکی میخواد هر زبانیو یاد بگیره اینو بهش میدن 😃 😃 😃\n",
        "\n",
        "</b>\n",
        "</font>\n",
        "</div>\n",
        "\n",
        "<div dir = \"rtl\">\n",
        "<font size = \"5px\">\n",
        "<b>\n",
        "بعدا ما این کار رو به یه روش ساده تر انجام میدیم، فعلا باید با sep و end و چهارتا print اینو پرینت بگیریم\n",
        "</b>\n",
        "</font>\n",
        "</div>"
      ],
      "metadata": {
        "id": "ToyD_DTbvCaW"
      }
    },
    {
      "cell_type": "code",
      "source": [
        "# use multiple stuff printing in one line of code\n",
        "# TODO\n",
        "\n",
        "\n",
        "\n",
        "\n",
        "# END TODO"
      ],
      "metadata": {
        "id": "qT4x0gVwvCac"
      },
      "execution_count": null,
      "outputs": []
    },
    {
      "cell_type": "markdown",
      "source": [
        "<div>\n",
        "</div>"
      ],
      "metadata": {
        "id": "zj4VFQuMGcC7"
      }
    },
    {
      "cell_type": "markdown",
      "source": [
        "<div>\n",
        "</div>"
      ],
      "metadata": {
        "id": "-1L11M4YGcyn"
      }
    },
    {
      "cell_type": "markdown",
      "source": [
        "<div>\n",
        "</div>"
      ],
      "metadata": {
        "id": "4Tqb8SriGddA"
      }
    },
    {
      "cell_type": "markdown",
      "source": [
        "# بریم سراغ دنیای واقعی"
      ],
      "metadata": {
        "id": "ga4jMbcHzNKL"
      }
    },
    {
      "cell_type": "markdown",
      "source": [
        "\n",
        "<div dir = \"rtl\">\n",
        "<font size = \"5px\" color=\"#E60023\">\n",
        "<b>\n",
        "تو دنیای واقعی print خیلی کاربرد داره، شاید بشه گفت پر تکرار ترین کلمه ایه که تو پایتون نوشته میشه\n",
        "</b>\n",
        "</font>\n",
        "</div>\n",
        "\n",
        "<div dir = \"rtl\">\n",
        "<font size = \"4px\">\n",
        "\n",
        "چون پایتون خط به خط اجرا میشه، ازش برای دیباگ کردن سریع هم استفاده میکنیم که درگیر پکیجای دیباگ نشیم(اون پکیجا هم توی مکان خودشون عالین البته)\n",
        "</font>\n",
        "</div>\n",
        "\n",
        "<div dir = \"rtl\">\n",
        "<font size = \"4px\">\n",
        "\n",
        "کد این تمرین درواقع پیاده سازی الگویتم رگرسیون خطی با گرادیان کاهشی(gradient descent) می باشد، که البته پیاده سازیمون باگ داره و ضرایب چند جمله ای همیشه صفره، کار شما اینه که با print گرفتن ضرایب چند جمله ای به اسم w  بفهمید کجای این کد اشتباه شده\n",
        "</font>\n",
        "</div>\n",
        "\n",
        "<div dir = \"rtl\">\n",
        "<font size = \"4px\">\n",
        "\n",
        "البته توجه کنید که نمیخوایم باگ کد رو رفع کنیم، فقط میخایم بدونیم کجای کد باگ داره\n",
        "</font>\n",
        "</div>\n",
        "\n",
        "<div dir = \"rtl\">\n",
        "<font size = \"4px\">\n",
        "\n",
        "یه نکته دیگه هم اینکه تو ویدیو روز بعد با مفهوم متغیر آشنا میشید، فعلا با print گرفتم w فقط نمایشش بدید\n",
        "</font>\n",
        "</div>\n",
        "\n",
        "<div dir = \"rtl\">\n",
        "<font size = \"4px\">\n",
        "\n",
        "در نهایت هم مقدار متغیر losses رو پرینت بگیرین\n",
        "</font>\n",
        "</div>\n",
        "\n",
        "<div dir = \"rtl\">\n",
        "<font size = \"4px\" color=\"#00A064\">\n",
        "<b>\n",
        "\n",
        "بازم مث قبل بین بخش هایی که با TODO و END TODO مشخص شدن کدهاتونو بنویسید\n",
        "</b>\n",
        "</font>\n",
        "</div>\n",
        "\n",
        "<div dir = \"rtl\">\n",
        "<font size = \"4px\" color=\"#00A064\">\n",
        "<b>\n",
        "\n",
        "تو متن کد هرجا که لازم بوده کد توضیح داده شده، همچنین براتون نوشتیم که تو این خط انتظار میره خروجی print چی باشه\n",
        "</b>\n",
        "</font>\n",
        "\n",
        "</div>"
      ],
      "metadata": {
        "id": "tHYUtIChzX-c"
      }
    },
    {
      "cell_type": "code",
      "source": [
        "# using np for matrix manipulation and plt for plotting\n",
        "import numpy as np\n",
        "import matplotlib.pyplot as plt\n",
        "\n",
        "# number of data to train in each iteration\n",
        "num_data = 10\n",
        "\n",
        "# X = np.random.random(num_data)\n",
        "# Y = 3*X + 5 + (np.random.random(1)[0] - .5)\n",
        "# plt.plot(X, Y, 'o')\n",
        "# plt.xlabel('X')\n",
        "# plt.ylabel('Y')\n",
        "# plt.title('Real Plot')\n",
        "# plt.show()\n",
        "\n",
        "# some parameters\n",
        "num_iterations = 2000\n",
        "W = np.zeros((2,))\n",
        "# learning rate\n",
        "etha = 0.01\n",
        "# loss on each iteration\n",
        "losses= np.zeros((num_iterations))\n",
        "for iter in range(num_iterations):\n",
        "  # produce some randome data on 3x+5 line\n",
        "  X = np.random.random(num_data)\n",
        "  Y = 3*X + 5 + (np.random.random(1)[0] - .5)\n",
        "  # intializing deriative of loss\n",
        "  dloss= np.zeros_like(W)\n",
        "  loss = 0\n",
        "  for i in range(num_data):\n",
        "    x = X[i]\n",
        "    y = Y[i]\n",
        "    y_forward = 0\n",
        "    # calculate y^\n",
        "    for k in range(W.shape[0]):\n",
        "      y_forward = y_forward +  W[k]*x**k\n",
        "    # calculate loss for this data\n",
        "    for k in range(W.shape[0]):\n",
        "      dloss[k] = (y_forward - y)*x**k\n",
        "\n",
        "    loss = (y_forward - y)**2\n",
        "  \n",
        "  dW = dloss/num_data\n",
        "  \n",
        "  # TODO\n",
        "  # print W so that the output be sth like -> \"W before Updating: [0, 0]\"\n",
        "  \n",
        "  # END TODO\n",
        "  for k in range(W.shape[0]):\n",
        "    #update W Coefficients\n",
        "    W[0] = W[0] - etha*dW[k]\n",
        "  \n",
        "  # TODO\n",
        "  # print W so that the output be sth like -> \"W After Updating: [0.1, 0]\"\n",
        "\n",
        "  # END TODO\n",
        "  \n",
        "  losses[iter] = loss/num_data\n",
        "\n",
        "# TODO \n",
        "# print losses variable\n",
        "\n",
        "\n",
        "# END TODO\n",
        "\n",
        "# TEST The Linear regression model\n",
        "X = np.random.random(num_data)\n",
        "Y = 3*X + 5 + (np.random.random(1)[0] - .5)\n",
        "\n",
        "y_pred = np.zeros_like(Y)\n",
        "for i in range(X.shape[0]):\n",
        "  for k in range(W.shape[0]):\n",
        "    y_pred[i] = y_pred[i] +  W[k]*X[i]**k\n",
        "\n",
        "plt.plot(Y, 'o-')\n",
        "plt.plot(y_pred, '-o')\n",
        "plt.legend(['True', 'Prediction'])\n",
        "plt.show()"
      ],
      "metadata": {
        "colab": {
          "base_uri": "https://localhost:8080/",
          "height": 265
        },
        "id": "2cOfLMYZzRFC",
        "outputId": "aee866b2-f61b-4510-c345-2a74efae4dfc"
      },
      "execution_count": null,
      "outputs": [
        {
          "output_type": "display_data",
          "data": {
            "text/plain": [
              "<Figure size 432x288 with 1 Axes>"
            ],
            "image/png": "[encoded data removed]"
          },
          "metadata": {
            "needs_background": "light"
          }
        }
      ]
    },
    {
      "cell_type": "code",
      "source": [
        ""
      ],
      "metadata": {
        "id": "ApU7kEnHJwTZ"
      },
      "execution_count": null,
      "outputs": []
    }
  ]
}